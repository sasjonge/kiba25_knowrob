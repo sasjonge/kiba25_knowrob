{
 "cells": [
  {
   "cell_type": "markdown",
   "id": "5556818e-277c-4565-86ae-4095c990cd3b",
   "metadata": {},
   "source": [
    "Exercise\n",
    "===\n",
    "\n",
    "This is a KnowRob exercise for the KIBA course of 2021. In the directory prolog you find the file exercise.pl. Implement the predicates in the file according to the description in the file. \n",
    "\n",
    "### Testing\n",
    "\n",
    "To test your implementation you first have consult your have to load the PR2.owl:\n"
   ]
  },
  {
   "cell_type": "code",
   "execution_count": 1,
   "id": "f391fbb4-e0c9-4f32-84a5-d8ef2c486c7a",
   "metadata": {},
   "outputs": [
    {
     "name": "stdout",
     "output_type": "stream",
     "text": [
      "true"
     ]
    }
   ],
   "source": [
    "load_owl('package://knowrob/owl/robots/PR2.owl',[ namespace(pr2,'http://knowrob.org/kb/PR2.owl#')])."
   ]
  },
  {
   "cell_type": "markdown",
   "id": "7a4605cb-ce02-4a2d-a5d9-7d76d85f20cb",
   "metadata": {},
   "source": [
    "Now you can load your implementation (you have to load the implementation after every change):"
   ]
  },
  {
   "cell_type": "code",
   "execution_count": 1,
   "id": "172a38df-5e91-4526-a194-b850ba0c513d",
   "metadata": {},
   "outputs": [
    {
     "name": "stdout",
     "output_type": "stream",
     "text": [
      "true"
     ]
    }
   ],
   "source": [
    "cloud_consult('/prolog/exercise.pl')"
   ]
  },
  {
   "cell_type": "markdown",
   "id": "872dc0fb-6023-4a04-8bd3-3e09ea2f80ee",
   "metadata": {},
   "source": [
    "After consulting the file you can test your implementation by executing the following calls. To test robot_part you can run:"
   ]
  },
  {
   "cell_type": "code",
   "execution_count": 1,
   "id": "07ffc3cd-898c-4616-a87b-83b1a8ef79bd",
   "metadata": {},
   "outputs": [
    {
     "name": "stdout",
     "output_type": "stream",
     "text": [
      "P: http://knowrob.org/kb/PR2.owl#PR2Arm_0_L;\n",
      "P: http://knowrob.org/kb/PR2.owl#PR2Arm_0_R;\n",
      "P: http://knowrob.org/kb/PR2.owl#PR2Base_0;\n",
      "P: http://knowrob.org/kb/PR2.owl#PR2Gripper_0_L;\n",
      "P: http://knowrob.org/kb/PR2.owl#PR2Gripper_0_R;\n",
      "P: http://knowrob.org/kb/PR2.owl#PR2BackPlate_0;\n",
      "P: http://knowrob.org/kb/PR2.owl#PR2Neck_0;\n",
      "P: http://knowrob.org/kb/PR2.owl#PR2Head_0;\n",
      "P: http://knowrob.org/kb/PR2.owl#PR2_0_Wheel_bll;\n",
      "P: http://knowrob.org/kb/PR2.owl#PR2_0_Wheel_blr;\n",
      "P: http://knowrob.org/kb/PR2.owl#PR2_0_Wheel_brl;\n",
      "P: http://knowrob.org/kb/PR2.owl#PR2_0_Wheel_brr;\n",
      "P: http://knowrob.org/kb/PR2.owl#PR2_0_Wheel_fll;\n",
      "P: http://knowrob.org/kb/PR2.owl#PR2_0_Wheel_flr;\n",
      "P: http://knowrob.org/kb/PR2.owl#PR2_0_Wheel_frl;\n",
      "P: http://knowrob.org/kb/PR2.owl#PR2_0_Wheel_frr;\n",
      "P: http://knowrob.org/kb/PR2.owl#PR2Finger_0_LR;\n",
      "P: http://knowrob.org/kb/PR2.owl#PR2Finger_0_LL;\n",
      "P: http://knowrob.org/kb/PR2.owl#PR2_0_GripperAccelerometer_l;\n",
      "P: http://knowrob.org/kb/PR2.owl#PR2Finger_0_RR;\n",
      "P: http://knowrob.org/kb/PR2.owl#PR2Finger_0_RL;\n",
      "P: http://knowrob.org/kb/PR2.owl#PR2_0_GripperAccelerometer_r;\n",
      "P: http://knowrob.org/kb/PR2.owl#PR2_0_ManipulationCamera;\n",
      "P: http://knowrob.org/kb/PR2.owl#PR2_0_Kinect;\n",
      "P: http://knowrob.org/kb/PR2.owl#PR2_0_EnvironmentCamera"
     ]
    }
   ],
   "source": [
    "robot_part('http://knowrob.org/kb/PR2.owl#PR2_0',P)."
   ]
  },
  {
   "cell_type": "markdown",
   "id": "151b8635-14e2-4f6f-87b4-f87110254e37",
   "metadata": {},
   "source": [
    "To test robot_parts_list run the following command:"
   ]
  },
  {
   "cell_type": "code",
   "execution_count": 1,
   "id": "9cdb760a-1bbe-4339-aaf9-1a549d075775",
   "metadata": {},
   "outputs": [
    {
     "name": "stdout",
     "output_type": "stream",
     "text": [
      "PList: ['http://knowrob.org/kb/PR2.owl#PR2Arm_0_L', 'http://knowrob.org/kb/PR2.owl#PR2Arm_0_R', 'http://knowrob.org/kb/PR2.owl#PR2Base_0', 'http://knowrob.org/kb/PR2.owl#PR2Gripper_0_L', 'http://knowrob.org/kb/PR2.owl#PR2Gripper_0_R', 'http://knowrob.org/kb/PR2.owl#PR2BackPlate_0', 'http://knowrob.org/kb/PR2.owl#PR2Neck_0', 'http://knowrob.org/kb/PR2.owl#PR2Head_0', 'http://knowrob.org/kb/PR2.owl#PR2_0_Wheel_bll', 'http://knowrob.org/kb/PR2.owl#PR2_0_Wheel_blr', 'http://knowrob.org/kb/PR2.owl#PR2_0_Wheel_brl', 'http://knowrob.org/kb/PR2.owl#PR2_0_Wheel_brr', 'http://knowrob.org/kb/PR2.owl#PR2_0_Wheel_fll', 'http://knowrob.org/kb/PR2.owl#PR2_0_Wheel_flr', 'http://knowrob.org/kb/PR2.owl#PR2_0_Wheel_frl', 'http://knowrob.org/kb/PR2.owl#PR2_0_Wheel_frr', 'http://knowrob.org/kb/PR2.owl#PR2Finger_0_LR', 'http://knowrob.org/kb/PR2.owl#PR2Finger_0_LL', 'http://knowrob.org/kb/PR2.owl#PR2_0_GripperAccelerometer_l', 'http://knowrob.org/kb/PR2.owl#PR2Finger_0_RR', 'http://knowrob.org/kb/PR2.owl#PR2Finger_0_RL', 'http://knowrob.org/kb/PR2.owl#PR2_0_GripperAccelerometer_r', 'http://knowrob.org/kb/PR2.owl#PR2_0_ManipulationCamera', 'http://knowrob.org/kb/PR2.owl#PR2_0_Kinect', 'http://knowrob.org/kb/PR2.owl#PR2_0_EnvironmentCamera']"
     ]
    }
   ],
   "source": [
    "robot_part_list('http://knowrob.org/kb/PR2.owl#PR2_0',PList)."
   ]
  },
  {
   "cell_type": "code",
   "execution_count": null,
   "id": "3f971c01-bc78-46b5-bb26-f3d5d9993786",
   "metadata": {},
   "outputs": [],
   "source": []
  }
 ],
 "metadata": {
  "kernelspec": {
   "display_name": "KnowRob",
   "language": "",
   "name": "jknowrob"
  },
  "language_info": {
   "mimetype": "text/plain",
   "name": "swipl"
  }
 },
 "nbformat": 4,
 "nbformat_minor": 5
}
